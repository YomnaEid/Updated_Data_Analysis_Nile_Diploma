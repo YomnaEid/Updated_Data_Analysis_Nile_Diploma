























# This is a code cell made up of Python comments
# We can execute it by clicking on it with the mouse
# then clicking the "Run Cell" button
# or if this does not work try pressing "Ctrl + Enter" or "Shift + Enter"


# A comment is a pretty boring piece of code
# This code cell generates "Hello, World" when executed

print("Hello, World")


# Code cells can also generate graphical output
get_ipython().run_line_magic("matplotlib", " inline")
import matplotlib
matplotlib.pyplot.hist([0, 1, 2, 2, 3, 3, 3, 4, 4, 4, 10]);










































































x = 0
print(x)


x += 1
print(x)










































































from IPython.display import YouTubeVideo
YouTubeVideo('vW_DRAJ0dtc')















































get_ipython().run_line_magic("matplotlib", " inline")


get_ipython().run_line_magic("whos", "")








get_ipython().run_cell_magic("timeit", "", """
import numpy as np
np.sum(np.random.rand(1000))""")





get_ipython().run_cell_magic("python2", "", """
i = 10**60
print type(i)""")








get_ipython().getoutput("ls")


x = get_ipython().getoutput("ls")


print(x)






