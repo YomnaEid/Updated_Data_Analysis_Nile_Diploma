get_ipython().getoutput("pip3 install ipython-sql")


get_ipython().run_line_magic("load_ext", " sql")



